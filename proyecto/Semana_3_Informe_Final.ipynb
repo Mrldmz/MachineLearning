{
 "cells": [
  {
   "cell_type": "markdown",
   "id": "61ac1b7f",
   "metadata": {},
   "source": [
    "# Semana 4: Informe final y presentación"
   ]
  },
  {
   "cell_type": "markdown",
   "id": "2908e6ee",
   "metadata": {},
   "source": [
    "## 1. Revisión y consolidación de resultados\n",
    "\n",
    "1. Se observaron los datos y se identificó un desbalance de clases, siendo los casos de arritmia significativamente menos comunes que los normales.\n",
    "2. Se obtuvieron intervalos R a partir de las señales ECG que se presentan en los datos.\n",
    "3. Se realizó un entrenamiento de modelo temprano para conocer la precisión de las predicciones antes de procesar los datos. Los resultados entregaron valores poco deseables para una clasificación con utilidad esperable. Este problema se le atribuyó al desbalance de clases.\n",
    "4. Se entrenó un modelo únicamente entre casos normales y casos con arritmia, omitiendo otros y no clasificables para observar el comportamiento de las predicciones, al que luego se evaluó únicamente con casos `Otro`. La mayoría de estos fueron predichos como normales (53,46%) y la minoría como arritmias (46,54%), pero no por una diferencia muy sesgada. Se determinó que el uso de estos datos en el entrenamiento debería ser beneficioso, por lo que se usan más adelante.\n",
    "5. Se abordó el problema de desbalance realizando sobremuestro sintético (SMOTE), lo que creó casos de arritmia sintéticos a partir de los datos reales para igualarlos a la cantidad del resto de los casos.\n",
    "6. Se entrenaron modelos bajo diferentes condiciones tras rebalancear las clases. De estos, destacan el desempeño de los modelos con los que antes de entrenar:\n",
    "   1. Se realizó un rebalanceo de clases entre casos de arritmia y normales, y luego se agregaron los datos de otros al set de entrenamiento y pruebas con la etiqueta `N`. Éste fue el que obtuvo las métricas generales más satisfactorias.\n",
    "   2. Se realizó el agregado de casos `Otro` con etiqueta `N` a los datos y luego se realizó un rebalance de clases. Éste fue el que consiguió detectar arritmia de manera más consistente.\n",
    "7. Se obtuvieron resultados significativamente más aceptables que los del modelo temprano.\n",
    "\n",
    "### Observaciones\n",
    "\n",
    "- Tras agregar casos `Otro` a los normales, se interpreta la etiqueta `N` como la correspondiente a casos que no son arritmia.\n",
    "- Se determinó que los casos `~` no serían de utilidad si su etiqueta no puede ser determinada para la evaluación.\n"
   ]
  },
  {
   "cell_type": "markdown",
   "id": "22315c51",
   "metadata": {},
   "source": [
    "## 2. Análisis crítico y reflexión ética\n",
    "\n",
    "### 2.1. Casos no clasificables\n",
    "\n",
    "Con respecto a los casos no clasificables, se reflexionó sobre su utilidad para entrenamiento, pero dada su baja cantidad, se decidió dejarlos fuera del estudio; bajo diferentes condiciones, se podría haber tomado la decisión de usarlos para entrenamiento (probablemente no para evaluación).\n",
    "\n",
    "### 2.2. Métricas de evaluación\n",
    "\n",
    "Se esperaron métricas más altas tras el rebalance de datos. Posiblemente se puedan mejorar los resultados al probar con otro modelo, ajustando parámetros para la detección de picos R, o aplicando técnicas más avanzadas de transformación de datos para facilitar la clasificación que realiza el modelo. Dentro de las métricas menos satisfactorias, está la baja precisión (cerca del 30%) para la predicción de clase 'A' en los modelos, lo que significa que hay una alta cantidad de falsos positivos.\n",
    "\n",
    "### 2.3. Interpretación de resultados y visión ética\n",
    "\n",
    "Los resultados finales, como se mencionó anteriormente, presentan dos situaciones con una mejora significativa sobre los resultados iniciales. Si bien el modelo entrenado que predice con métricas generales más exactas puede parecer más útil, es necesario recordar el propósito original del entrenamiento: detectar casos de arritmia.\n",
    "\n",
    "Considerando esto, a pesar de que el último modelo presenta métricas generales menos satisfactorias desde el punto de vista estadístico, sí se puede observar una mejora en la detección de arritmias, pues mejora el recall, subiendo de un 66% a un 84% en comparación al caso anterior.\n",
    "\n",
    "Es el punto de vista lo que puede determinar finalmente qué modelo es más útil para su uso. Normalmente es considerado más seguro para la salud de las personas detecar un falso positivo si con eso se puede reducir la probabilidad de **no detectar** un caso positivo real, al menos para el caso de enfermedades graves. Por esta razón es que se puede preferir el último modelo entrenado por sobre el otro.\n"
   ]
  },
  {
   "cell_type": "markdown",
   "id": "c1616af4",
   "metadata": {},
   "source": [
    "## 3. Redacción del informe técnico (estructura sugerida)"
   ]
  },
  {
   "cell_type": "markdown",
   "id": "2988e707",
   "metadata": {},
   "source": [
    "## 4. Preparación de presentación (opcional)"
   ]
  }
 ],
 "metadata": {
  "language_info": {
   "name": "python"
  }
 },
 "nbformat": 4,
 "nbformat_minor": 5
}
