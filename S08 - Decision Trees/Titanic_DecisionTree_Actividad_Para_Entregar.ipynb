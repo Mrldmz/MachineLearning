{
  "cells": [
    {
      "cell_type": "markdown",
      "metadata": {},
      "source": [
        "# 🧪 Actividad Evaluada: Árboles de Decisión en el Dataset Titanic\n",
        "\n",
        "📚 **Curso:** Machine Learning\n",
        "\n",
        "## 📝 Instrucciones\n",
        "- Este notebook debe ser completado individualmente y subido a la plataforma del curso.\n",
        "- Responde todas las celdas marcadas como código y asegúrate de que el notebook se ejecute sin errores.\n",
        "- Puedes usar material del curso y documentación oficial de Python y Scikit-learn.\n",
        "\n",
        "## 📄 Descripción del Dataset\n",
        "El dataset **Titanic** contiene información sobre los pasajeros del famoso barco Titanic que naufragó en 1912. El objetivo es predecir si un pasajero sobrevivió o no (`Survived` = 1 si sobrevivió, 0 si no), a partir de variables como edad, clase, sexo, y punto de embarque.\n",
        "\n",
        "Este conjunto de datos es ampliamente utilizado en aprendizaje automático como un primer ejemplo de clasificación supervisada.\n",
        "\n",
        "---"
      ]
    },
    {
      "cell_type": "markdown",
      "metadata": {},
      "source": [
        "# 🌊 Actividad Evaluada: Árboles de Decisión con el Dataset Titanic\n",
        "\n",
        "En esta actividad aplicarás un modelo de árboles de decisión sobre el dataset Titanic.\n",
        "\n",
        "### 🎯 Objetivos:\n",
        "- Cargar y explorar el dataset\n",
        "- Preprocesar las variables categóricas con One Hot Encoding\n",
        "- Entrenar un árbol de decisión\n",
        "- Visualizar el árbol\n",
        "- Evaluar el desempeño del modelo\n",
        "\n",
        "🕐 Tiempo estimado: 60 a 90 minutos"
      ]
    },
    {
      "cell_type": "code",
      "execution_count": null,
      "metadata": {},
      "outputs": [],
      "source": [
        "# 📥 Cargar el dataset desde la URL de Kaggle (alternativamente cargar localmente)\n",
        "url = 'https://raw.githubusercontent.com/datasciencedojo/datasets/master/titanic.csv'\n",
        "df = pd.read_csv(url)\n",
        "df.head()"
      ]
    },
    {
      "cell_type": "markdown",
      "metadata": {},
      "source": [
        "## 🔍 1. Exploración inicial del dataset"
      ]
    },
    {
      "cell_type": "code",
      "execution_count": null,
      "metadata": {},
      "outputs": [],
      "source": []
    },
    {
      "cell_type": "markdown",
      "metadata": {},
      "source": [
        "## 🧹 2. Preprocesamiento\n",
        "- Eliminar columnas irrelevantes como 'PassengerId', 'Name', 'Ticket', 'Cabin'\n",
        "- Rellenar valores nulos en 'Age' y 'Embarked'\n",
        "- Aplicar One Hot Encoding a 'Sex' y 'Embarked'"
      ]
    },
    {
      "cell_type": "code",
      "execution_count": null,
      "metadata": {},
      "outputs": [],
      "source": []
    },
    {
      "cell_type": "markdown",
      "metadata": {},
      "source": [
        "## 🧠 3. Entrenamiento del modelo de Árbol de Decisión"
      ]
    },
    {
      "cell_type": "code",
      "execution_count": null,
      "metadata": {},
      "outputs": [],
      "source": []
    },
    {
      "cell_type": "markdown",
      "metadata": {},
      "source": [
        "## 🌳 4. Visualización del árbol"
      ]
    },
    {
      "cell_type": "code",
      "execution_count": null,
      "metadata": {},
      "outputs": [],
      "source": []
    },
    {
      "cell_type": "markdown",
      "metadata": {},
      "source": [
        "## 📈 5. Evaluación del modelo"
      ]
    },
    {
      "cell_type": "code",
      "execution_count": null,
      "metadata": {},
      "outputs": [],
      "source": []
    },
    {
      "cell_type": "markdown",
      "metadata": {},
      "source": [
        "---\n",
        "## 🤔 Preguntas de Reflexión\n",
        "\n",
        "Responde brevemente las siguientes preguntas al final de tu actividad. Puedes escribir tus respuestas directamente bajo cada pregunta:\n",
        "\n",
        "1. ¿Qué variables crees que fueron más importantes para predecir la supervivencia? ¿Por qué?\n",
        "\n",
        "2. ¿Qué limitaciones puede tener un árbol de decisión si no se controla su profundidad?\n",
        "\n",
        "3. ¿Qué diferencias habría si usáramos codificación ordinal en lugar de One Hot Encoding?\n",
        "\n",
        "4. ¿Qué cambiarías en el preprocesamiento o configuración del modelo para mejorar los resultados?\n",
        "\n",
        "5. ¿Crees que este modelo se puede usar directamente en un entorno real? ¿Qué consideraciones éticas o técnicas deberías tener?\n"
      ]
    },
    {
      "cell_type": "markdown",
      "metadata": {},
      "source": [
        "**1. ¿Qué variables crees que fueron más importantes para predecir la supervivencia? ¿Por qué?**"
      ]
    },
    {
      "cell_type": "code",
      "execution_count": null,
      "metadata": {},
      "outputs": [],
      "source": [
        "# Escribe tu respuesta aquí...\n"
      ]
    },
    {
      "cell_type": "markdown",
      "metadata": {},
      "source": [
        "**2. ¿Qué limitaciones puede tener un árbol de decisión si no se controla su profundidad?**"
      ]
    },
    {
      "cell_type": "code",
      "execution_count": null,
      "metadata": {},
      "outputs": [],
      "source": [
        "# Escribe tu respuesta aquí...\n"
      ]
    },
    {
      "cell_type": "markdown",
      "metadata": {},
      "source": [
        "**3. ¿Qué diferencias habría si usáramos codificación ordinal en lugar de One Hot Encoding?**"
      ]
    },
    {
      "cell_type": "code",
      "execution_count": null,
      "metadata": {},
      "outputs": [],
      "source": [
        "# Escribe tu respuesta aquí...\n"
      ]
    },
    {
      "cell_type": "markdown",
      "metadata": {},
      "source": [
        "**4. ¿Qué cambiarías en el preprocesamiento o configuración del modelo para mejorar los resultados?**"
      ]
    },
    {
      "cell_type": "code",
      "execution_count": null,
      "metadata": {},
      "outputs": [],
      "source": [
        "# Escribe tu respuesta aquí...\n"
      ]
    },
    {
      "cell_type": "markdown",
      "metadata": {},
      "source": [
        "**5. ¿Crees que este modelo se puede usar directamente en un entorno real? ¿Qué consideraciones éticas o técnicas deberías tener?**"
      ]
    },
    {
      "cell_type": "code",
      "execution_count": null,
      "metadata": {},
      "outputs": [],
      "source": [
        "# Escribe tu respuesta aquí...\n"
      ]
    }
  ],
  "metadata": {
    "kernelspec": {
      "display_name": "Python 3",
      "language": "python",
      "name": "python3"
    },
    "language_info": {
      "name": "python",
      "version": ""
    }
  },
  "nbformat": 4,
  "nbformat_minor": 2
}
