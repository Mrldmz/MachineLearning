{
  "cells": [
    {
      "cell_type": "markdown",
      "metadata": {},
      "source": [
        "# 🧪 Actividad Evaluada: Árboles de Decisión en el Dataset Titanic\n",
        "\n",
        "📚 **Curso:** Machine Learning\n",
        "\n",
        "## 📝 Instrucciones\n",
        "- Este notebook debe ser completado individualmente y subido a la plataforma del curso.\n",
        "- Responde todas las celdas marcadas como código y asegúrate de que el notebook se ejecute sin errores.\n",
        "- Puedes usar material del curso y documentación oficial de Python y Scikit-learn.\n",
        "\n",
        "## 📄 Descripción del Dataset\n",
        "El dataset **Titanic** contiene información sobre los pasajeros del famoso barco Titanic que naufragó en 1912. El objetivo es predecir si un pasajero sobrevivió o no (`Survived` = 1 si sobrevivió, 0 si no), a partir de variables como edad, clase, sexo, y punto de embarque.\n",
        "\n",
        "Este conjunto de datos es ampliamente utilizado en aprendizaje automático como un primer ejemplo de clasificación supervisada.\n",
        "\n",
        "---"
      ]
    },
    {
      "cell_type": "markdown",
      "metadata": {},
      "source": [
        "# 🌊 Actividad Evaluada: Árboles de Decisión con el Dataset Titanic\n",
        "\n",
        "En esta actividad aplicarás un modelo de árboles de decisión sobre el dataset Titanic.\n",
        "\n",
        "### 🎯 Objetivos:\n",
        "- Cargar y explorar el dataset\n",
        "- Preprocesar las variables categóricas con One Hot Encoding\n",
        "- Entrenar un árbol de decisión\n",
        "- Visualizar el árbol\n",
        "- Evaluar el desempeño del modelo\n",
        "\n",
        "🕐 Tiempo estimado: 60 a 90 minutos"
      ]
    },
    {
      "cell_type": "code",
      "execution_count": 10,
      "metadata": {},
      "outputs": [
        {
          "data": {
            "text/html": [
              "<div>\n",
              "<style scoped>\n",
              "    .dataframe tbody tr th:only-of-type {\n",
              "        vertical-align: middle;\n",
              "    }\n",
              "\n",
              "    .dataframe tbody tr th {\n",
              "        vertical-align: top;\n",
              "    }\n",
              "\n",
              "    .dataframe thead th {\n",
              "        text-align: right;\n",
              "    }\n",
              "</style>\n",
              "<table border=\"1\" class=\"dataframe\">\n",
              "  <thead>\n",
              "    <tr style=\"text-align: right;\">\n",
              "      <th></th>\n",
              "      <th>PassengerId</th>\n",
              "      <th>Survived</th>\n",
              "      <th>Pclass</th>\n",
              "      <th>Name</th>\n",
              "      <th>Sex</th>\n",
              "      <th>Age</th>\n",
              "      <th>SibSp</th>\n",
              "      <th>Parch</th>\n",
              "      <th>Ticket</th>\n",
              "      <th>Fare</th>\n",
              "      <th>Cabin</th>\n",
              "      <th>Embarked</th>\n",
              "    </tr>\n",
              "  </thead>\n",
              "  <tbody>\n",
              "    <tr>\n",
              "      <th>0</th>\n",
              "      <td>1</td>\n",
              "      <td>0</td>\n",
              "      <td>3</td>\n",
              "      <td>Braund, Mr. Owen Harris</td>\n",
              "      <td>male</td>\n",
              "      <td>22.0</td>\n",
              "      <td>1</td>\n",
              "      <td>0</td>\n",
              "      <td>A/5 21171</td>\n",
              "      <td>7.2500</td>\n",
              "      <td>NaN</td>\n",
              "      <td>S</td>\n",
              "    </tr>\n",
              "    <tr>\n",
              "      <th>1</th>\n",
              "      <td>2</td>\n",
              "      <td>1</td>\n",
              "      <td>1</td>\n",
              "      <td>Cumings, Mrs. John Bradley (Florence Briggs Th...</td>\n",
              "      <td>female</td>\n",
              "      <td>38.0</td>\n",
              "      <td>1</td>\n",
              "      <td>0</td>\n",
              "      <td>PC 17599</td>\n",
              "      <td>71.2833</td>\n",
              "      <td>C85</td>\n",
              "      <td>C</td>\n",
              "    </tr>\n",
              "    <tr>\n",
              "      <th>2</th>\n",
              "      <td>3</td>\n",
              "      <td>1</td>\n",
              "      <td>3</td>\n",
              "      <td>Heikkinen, Miss. Laina</td>\n",
              "      <td>female</td>\n",
              "      <td>26.0</td>\n",
              "      <td>0</td>\n",
              "      <td>0</td>\n",
              "      <td>STON/O2. 3101282</td>\n",
              "      <td>7.9250</td>\n",
              "      <td>NaN</td>\n",
              "      <td>S</td>\n",
              "    </tr>\n",
              "    <tr>\n",
              "      <th>3</th>\n",
              "      <td>4</td>\n",
              "      <td>1</td>\n",
              "      <td>1</td>\n",
              "      <td>Futrelle, Mrs. Jacques Heath (Lily May Peel)</td>\n",
              "      <td>female</td>\n",
              "      <td>35.0</td>\n",
              "      <td>1</td>\n",
              "      <td>0</td>\n",
              "      <td>113803</td>\n",
              "      <td>53.1000</td>\n",
              "      <td>C123</td>\n",
              "      <td>S</td>\n",
              "    </tr>\n",
              "    <tr>\n",
              "      <th>4</th>\n",
              "      <td>5</td>\n",
              "      <td>0</td>\n",
              "      <td>3</td>\n",
              "      <td>Allen, Mr. William Henry</td>\n",
              "      <td>male</td>\n",
              "      <td>35.0</td>\n",
              "      <td>0</td>\n",
              "      <td>0</td>\n",
              "      <td>373450</td>\n",
              "      <td>8.0500</td>\n",
              "      <td>NaN</td>\n",
              "      <td>S</td>\n",
              "    </tr>\n",
              "  </tbody>\n",
              "</table>\n",
              "</div>"
            ],
            "text/plain": [
              "   PassengerId  Survived  Pclass  \\\n",
              "0            1         0       3   \n",
              "1            2         1       1   \n",
              "2            3         1       3   \n",
              "3            4         1       1   \n",
              "4            5         0       3   \n",
              "\n",
              "                                                Name     Sex   Age  SibSp  \\\n",
              "0                            Braund, Mr. Owen Harris    male  22.0      1   \n",
              "1  Cumings, Mrs. John Bradley (Florence Briggs Th...  female  38.0      1   \n",
              "2                             Heikkinen, Miss. Laina  female  26.0      0   \n",
              "3       Futrelle, Mrs. Jacques Heath (Lily May Peel)  female  35.0      1   \n",
              "4                           Allen, Mr. William Henry    male  35.0      0   \n",
              "\n",
              "   Parch            Ticket     Fare Cabin Embarked  \n",
              "0      0         A/5 21171   7.2500   NaN        S  \n",
              "1      0          PC 17599  71.2833   C85        C  \n",
              "2      0  STON/O2. 3101282   7.9250   NaN        S  \n",
              "3      0            113803  53.1000  C123        S  \n",
              "4      0            373450   8.0500   NaN        S  "
            ]
          },
          "execution_count": 10,
          "metadata": {},
          "output_type": "execute_result"
        }
      ],
      "source": [
        "import pandas as pd\n",
        "\n",
        "from sklearn.tree import DecisionTreeClassifier #tipo de clasificador\n",
        "from sklearn.tree import plot_tree #visualizar arbol de decision\n",
        "\n",
        "import numpy as np\n",
        "import matplotlib.pyplot as plt\n",
        "\n",
        "%matplotlib inline\n",
        "\n",
        "# 📥 Cargar el dataset desde la URL de Kaggle (alternativamente cargar localmente)\n",
        "url = 'https://raw.githubusercontent.com/datasciencedojo/datasets/master/titanic.csv'\n",
        "df = pd.read_csv(url)\n",
        "df.head()"
      ]
    },
    {
      "cell_type": "markdown",
      "metadata": {},
      "source": [
        "## 🔍 1. Exploración inicial del dataset\n",
        "\n",
        "Antes de comenzar a entrenar modelos de Machine Learning, es fundamental **comprender la estructura y el contenido del conjunto de datos**. En esta sección, deberás realizar una exploración básica del dataset Titanic para identificar:\n",
        "\n",
        "- Las columnas disponibles y sus tipos de datos (`.info()`)\n",
        "- Las estadísticas descriptivas de las variables numéricas (`.describe()`)\n",
        "- La existencia de valores faltantes (`.isnull().sum()`)\n",
        "\n",
        "Estas acciones te permitirán decidir qué pasos de limpieza y preprocesamiento son necesarios. **Recuerda comentar brevemente tus observaciones** al final de esta sección, por ejemplo: si hay columnas con muchos datos faltantes, si hay outliers o si ciertas variables parecen poco informativas."
      ]
    },
    {
      "cell_type": "code",
      "execution_count": null,
      "metadata": {
        "vscode": {
          "languageId": "r"
        }
      },
      "outputs": [
        {
          "name": "stdout",
          "output_type": "stream",
          "text": [
            "<class 'pandas.core.frame.DataFrame'>\n",
            "RangeIndex: 891 entries, 0 to 890\n",
            "Data columns (total 12 columns):\n",
            " #   Column       Non-Null Count  Dtype  \n",
            "---  ------       --------------  -----  \n",
            " 0   PassengerId  891 non-null    int64  \n",
            " 1   Survived     891 non-null    int64  \n",
            " 2   Pclass       891 non-null    int64  \n",
            " 3   Name         891 non-null    object \n",
            " 4   Sex          891 non-null    object \n",
            " 5   Age          714 non-null    float64\n",
            " 6   SibSp        891 non-null    int64  \n",
            " 7   Parch        891 non-null    int64  \n",
            " 8   Ticket       891 non-null    object \n",
            " 9   Fare         891 non-null    float64\n",
            " 10  Cabin        204 non-null    object \n",
            " 11  Embarked     889 non-null    object \n",
            "dtypes: float64(2), int64(5), object(5)\n",
            "memory usage: 83.7+ KB\n",
            "\n",
            "Estadísticas descriptivas:\n",
            "       PassengerId    Survived      Pclass         Age       SibSp  \\\n",
            "count   891.000000  891.000000  891.000000  714.000000  891.000000   \n",
            "mean    446.000000    0.383838    2.308642   29.699118    0.523008   \n",
            "std     257.353842    0.486592    0.836071   14.526497    1.102743   \n",
            "min       1.000000    0.000000    1.000000    0.420000    0.000000   \n",
            "25%     223.500000    0.000000    2.000000   20.125000    0.000000   \n",
            "50%     446.000000    0.000000    3.000000   28.000000    0.000000   \n",
            "75%     668.500000    1.000000    3.000000   38.000000    1.000000   \n",
            "max     891.000000    1.000000    3.000000   80.000000    8.000000   \n",
            "\n",
            "            Parch        Fare  \n",
            "count  891.000000  891.000000  \n",
            "mean     0.381594   32.204208  \n",
            "std      0.806057   49.693429  \n",
            "min      0.000000    0.000000  \n",
            "25%      0.000000    7.910400  \n",
            "50%      0.000000   14.454200  \n",
            "75%      0.000000   31.000000  \n",
            "max      6.000000  512.329200  \n",
            "\n",
            "Valores faltantes por columna:\n",
            "             Valores Faltantes  Porcentaje (%)\n",
            "PassengerId                  0        0.000000\n",
            "Survived                     0        0.000000\n",
            "Pclass                       0        0.000000\n",
            "Name                         0        0.000000\n",
            "Sex                          0        0.000000\n",
            "Age                        177       19.865320\n",
            "SibSp                        0        0.000000\n",
            "Parch                        0        0.000000\n",
            "Ticket                       0        0.000000\n",
            "Fare                         0        0.000000\n",
            "Cabin                      687       77.104377\n",
            "Embarked                     2        0.224467\n"
          ]
        }
      ],
      "source": [
        "# Información general del dataset\n",
        "df.info()\n",
        "\n",
        "# Estadísticas descriptivas de las variables numéricas\n",
        "print(\"\\nEstadísticas descriptivas:\")\n",
        "print(df.describe())\n",
        "\n",
        "# Valores faltantes por columna\n",
        "print(\"\\nValores faltantes por columna:\")\n",
        "missing_values = df.isnull().sum()\n",
        "# Comparación relativa de los valores faltantes\n",
        "relative_missing = (missing_values / len(df)) * 100\n",
        "print(pd.DataFrame({'Valores Faltantes': missing_values, 'Porcentaje (%)': relative_missing}))\n",
        "\n",
        "# Observaciones:\n",
        "# - La columna 'Age' tiene 177 valores faltantes, lo que representa aproximadamente el 20% del total.\n",
        "# - La columna 'Cabin' tiene muchos valores faltantes (687); más del 77% del total.\n",
        "# - La columna 'Embarked' tiene solo 2 valores faltantes.\n",
        "# - La variable 'Fare' tiene valores extremos que podrían ser outliers, observable en la diferencia significativa entre valor máximo y Q3."
      ]
    },
    {
      "cell_type": "markdown",
      "metadata": {},
      "source": [
        "## 🧹 2. Preprocesamiento\n",
        "\n",
        "Antes de entrenar un modelo de Machine Learning, es necesario **preparar adecuadamente los datos**. Este proceso se conoce como *preprocesamiento* y consiste en dejar el conjunto de datos en un formato que los algoritmos puedan utilizar de manera efectiva.\n",
        "\n",
        "### Pasos a seguir:\n",
        "\n",
        "1. **Eliminar columnas innecesarias**: Algunas columnas como `PassengerId`, `Name`, `Ticket` o `Cabin` no aportan información útil al modelo o contienen datos difíciles de procesar automáticamente (como texto libre o demasiados valores únicos).\n",
        "\n",
        "2. **Manejo de valores faltantes**:\n",
        "   - La columna `Age` tiene valores faltantes que puedes reemplazar por la **mediana**, ya que es menos sensible a valores extremos.\n",
        "   - La columna `Embarked` tiene pocos valores faltantes, así que puedes usar la **moda** (valor más frecuente) para completarlos.\n",
        "\n",
        "3. **Codificación de variables categóricas**:\n",
        "   - Los algoritmos no pueden trabajar directamente con texto. Por eso, aplicamos **One Hot Encoding** a las variables categóricas como `Sex` y `Embarked`, transformándolas en columnas binarias (0 y 1).\n",
        "   - Usar `drop_first=True` evita multicolinealidad y reduce la cantidad de columnas.\n",
        "\n",
        "> ⚠️ **Importante:** El preprocesamiento tiene un gran impacto en la calidad del modelo. Un paso mal hecho puede afectar seriamente el desempeño del algoritmo.\n",
        "\n",
        "Al finalizar esta etapa, deberías tener un dataset **limpio, sin valores nulos y completamente numérico**."
      ]
    },
    {
      "cell_type": "code",
      "execution_count": 12,
      "metadata": {},
      "outputs": [
        {
          "name": "stdout",
          "output_type": "stream",
          "text": [
            "Valores nulos por columna:\n",
            "Survived      0\n",
            "Pclass        0\n",
            "Age           0\n",
            "SibSp         0\n",
            "Parch         0\n",
            "Fare          0\n",
            "Sex_male      0\n",
            "Embarked_Q    0\n",
            "Embarked_S    0\n",
            "dtype: int64\n",
            "\n",
            "Tipos de datos por columna:\n",
            "Survived        int64\n",
            "Pclass          int64\n",
            "Age           float64\n",
            "SibSp           int64\n",
            "Parch           int64\n",
            "Fare          float64\n",
            "Sex_male         bool\n",
            "Embarked_Q       bool\n",
            "Embarked_S       bool\n",
            "dtype: object\n"
          ]
        },
        {
          "name": "stderr",
          "output_type": "stream",
          "text": [
            "C:\\Users\\leopo\\AppData\\Local\\Temp\\ipykernel_33324\\1366772892.py:6: FutureWarning: A value is trying to be set on a copy of a DataFrame or Series through chained assignment using an inplace method.\n",
            "The behavior will change in pandas 3.0. This inplace method will never work because the intermediate object on which we are setting values always behaves as a copy.\n",
            "\n",
            "For example, when doing 'df[col].method(value, inplace=True)', try using 'df.method({col: value}, inplace=True)' or df[col] = df[col].method(value) instead, to perform the operation inplace on the original object.\n",
            "\n",
            "\n",
            "  df['Age'].fillna(df['Age'].median(), inplace=True)\n",
            "C:\\Users\\leopo\\AppData\\Local\\Temp\\ipykernel_33324\\1366772892.py:9: FutureWarning: A value is trying to be set on a copy of a DataFrame or Series through chained assignment using an inplace method.\n",
            "The behavior will change in pandas 3.0. This inplace method will never work because the intermediate object on which we are setting values always behaves as a copy.\n",
            "\n",
            "For example, when doing 'df[col].method(value, inplace=True)', try using 'df.method({col: value}, inplace=True)' or df[col] = df[col].method(value) instead, to perform the operation inplace on the original object.\n",
            "\n",
            "\n",
            "  df['Embarked'].fillna(df['Embarked'].mode()[0], inplace=True)\n"
          ]
        }
      ],
      "source": [
        "# Eliminar columnas innecesarias para el modelo\n",
        "df = df.drop(columns=['PassengerId', 'Name', 'Ticket', 'Cabin'])\n",
        "df.head()\n",
        "\n",
        "# Reemplazar valores faltantes en 'Age' con la mediana\n",
        "df['Age'].fillna(df['Age'].median(), inplace=True)\n",
        "\n",
        "# Reemplazar valores faltantes en 'Embarked' con la moda\n",
        "df['Embarked'].fillna(df['Embarked'].mode()[0], inplace=True)\n",
        "\n",
        "# Aplicar One Hot Encoding a las variables categóricas\n",
        "df = pd.get_dummies(df, columns=['Sex', 'Embarked'], drop_first=True)\n",
        "df.head()\n",
        "\n",
        "# Verificar que no hay valores nulos\n",
        "print(\"Valores nulos por columna:\")\n",
        "print(df.isnull().sum())\n",
        "\n",
        "# Verificar que todas las columnas son numéricas\n",
        "print(\"\\nTipos de datos por columna:\")\n",
        "print(df.dtypes)\n"
      ]
    },
    {
      "cell_type": "markdown",
      "metadata": {},
      "source": [
        "## 🧠 3. Entrenamiento del modelo de Árbol de Decisión\n",
        "\n",
        "En esta etapa, construiremos un modelo predictivo utilizando un **Árbol de Decisión**, una técnica de clasificación que divide los datos en ramas sucesivas para tomar decisiones basadas en las características del conjunto de datos.\n",
        "\n",
        "### Pasos a seguir:\n",
        "\n",
        "1. **Separar las variables predictoras (X) y la variable objetivo (y)**.  \n",
        "   En este caso, `Survived` será nuestra variable objetivo, y el resto de las columnas las usaremos como predictores.\n",
        "\n",
        "2. **Dividir los datos en conjuntos de entrenamiento y prueba**.  \n",
        "   Esto se hace para evaluar el modelo con datos que no ha visto antes. Usa `train_test_split` para crear una división, por ejemplo 70% entrenamiento y 30% prueba.\n",
        "\n",
        "3. **Crear y entrenar el modelo con `DecisionTreeClassifier`**.  \n",
        "   Puedes usar el parámetro `max_depth` para limitar la profundidad del árbol y evitar sobreajuste.\n",
        "\n",
        "Cuando termines esta sección, tu modelo estará entrenado y listo para ser evaluado y visualizado."
      ]
    },
    {
      "cell_type": "code",
      "execution_count": null,
      "metadata": {},
      "outputs": [],
      "source": []
    },
    {
      "cell_type": "markdown",
      "metadata": {},
      "source": [
        "## 🌳 4. Visualización del árbol\n",
        "\n",
        "Una de las grandes ventajas de los árboles de decisión es que su estructura se puede visualizar de forma intuitiva, lo que facilita la **interpretación del modelo**.\n",
        "\n",
        "En esta sección usaremos la función `plot_tree()` de `sklearn` para graficar el árbol entrenado. En el gráfico:\n",
        "\n",
        "- Cada **nodo interno** representa una condición de decisión sobre alguna variable.\n",
        "- Cada **rama** muestra el resultado de esa decisión (verdadero o falso).\n",
        "- Cada **nodo terminal** (o hoja) muestra la clase predicha y cuántas muestras llegaron a ese punto.\n",
        "\n",
        "### Sugerencia:\n",
        "Puedes ajustar los parámetros de `plot_tree()` como `feature_names`, `class_names` y `filled=True` para mejorar la legibilidad del árbol. Asegúrate de usar `plt.figure(figsize=(ancho, alto))` para que la visualización no se corte.\n",
        "\n",
        "**Objetivo:** Entender cómo el modelo está tomando decisiones, qué variables usa y con qué prioridad."
      ]
    },
    {
      "cell_type": "code",
      "execution_count": null,
      "metadata": {},
      "outputs": [],
      "source": []
    },
    {
      "cell_type": "markdown",
      "metadata": {},
      "source": [
        "## 📈 5. Evaluación del modelo\n",
        "\n",
        "Una vez entrenado el modelo, es fundamental **evaluar su desempeño** para entender qué tan bien está funcionando. En esta sección usaremos datos de prueba (no vistos por el modelo durante el entrenamiento) para calcular métricas que nos ayuden a juzgar la calidad de las predicciones.\n",
        "\n",
        "### Métricas que utilizaremos:\n",
        "\n",
        "- **Matriz de confusión (`confusion_matrix`)**: muestra la cantidad de verdaderos positivos, falsos positivos, verdaderos negativos y falsos negativos. Es útil para entender errores específicos del modelo.\n",
        "- **Reporte de clasificación (`classification_report`)**: incluye precisión (*precision*), exhaustividad (*recall*), y la métrica F1 para cada clase.\n",
        "- **Exactitud (`accuracy_score`)**: indica qué porcentaje total de predicciones fue correcto.\n",
        "\n",
        "Estas métricas te permitirán **identificar si el modelo está desbalanceado**, si tiende a predecir más una clase que otra, y si necesita ajustes en parámetros o preprocesamiento.\n",
        "\n",
        "> 💡 Recuerda: un modelo con buena precisión pero bajo *recall* puede ser problemático si nos interesa no dejar pasar casos positivos (como sobrevivientes)."
      ]
    },
    {
      "cell_type": "code",
      "execution_count": null,
      "metadata": {},
      "outputs": [],
      "source": []
    },
    {
      "cell_type": "markdown",
      "metadata": {},
      "source": [
        "---\n",
        "## 🤔 Preguntas de Reflexión\n",
        "\n",
        "Responde brevemente las siguientes preguntas al final de tu actividad. Puedes escribir tus respuestas directamente bajo cada pregunta:\n",
        "\n",
        "1. ¿Qué variables crees que fueron más importantes para predecir la supervivencia? ¿Por qué?\n",
        "\n",
        "2. ¿Qué limitaciones puede tener un árbol de decisión si no se controla su profundidad?\n",
        "\n",
        "3. ¿Qué diferencias habría si usáramos codificación ordinal en lugar de One Hot Encoding?\n",
        "\n",
        "4. ¿Qué cambiarías en el preprocesamiento o configuración del modelo para mejorar los resultados?\n",
        "\n",
        "5. ¿Crees que este modelo se puede usar directamente en un entorno real? ¿Qué consideraciones éticas o técnicas deberías tener?\n"
      ]
    },
    {
      "cell_type": "markdown",
      "metadata": {},
      "source": [
        "**1. ¿Qué variables crees que fueron más importantes para predecir la supervivencia? ¿Por qué?**"
      ]
    },
    {
      "cell_type": "code",
      "execution_count": null,
      "metadata": {},
      "outputs": [],
      "source": [
        "# Escribe tu respuesta aquí...\n"
      ]
    },
    {
      "cell_type": "markdown",
      "metadata": {},
      "source": [
        "**2. ¿Qué limitaciones puede tener un árbol de decisión si no se controla su profundidad?**"
      ]
    },
    {
      "cell_type": "code",
      "execution_count": null,
      "metadata": {},
      "outputs": [],
      "source": [
        "# Escribe tu respuesta aquí...\n"
      ]
    },
    {
      "cell_type": "markdown",
      "metadata": {},
      "source": [
        "**3. ¿Qué diferencias habría si usáramos codificación ordinal en lugar de One Hot Encoding?**"
      ]
    },
    {
      "cell_type": "code",
      "execution_count": null,
      "metadata": {},
      "outputs": [],
      "source": [
        "# Escribe tu respuesta aquí...\n"
      ]
    },
    {
      "cell_type": "markdown",
      "metadata": {},
      "source": [
        "**4. ¿Qué cambiarías en el preprocesamiento o configuración del modelo para mejorar los resultados?**"
      ]
    },
    {
      "cell_type": "code",
      "execution_count": null,
      "metadata": {},
      "outputs": [],
      "source": [
        "# Escribe tu respuesta aquí...\n"
      ]
    },
    {
      "cell_type": "markdown",
      "metadata": {},
      "source": [
        "**5. ¿Crees que este modelo se puede usar directamente en un entorno real? ¿Qué consideraciones éticas o técnicas deberías tener?**"
      ]
    },
    {
      "cell_type": "code",
      "execution_count": null,
      "metadata": {},
      "outputs": [],
      "source": [
        "# Escribe tu respuesta aquí...\n"
      ]
    }
  ],
  "metadata": {
    "kernelspec": {
      "display_name": "Python 3",
      "language": "python",
      "name": "python3"
    },
    "language_info": {
      "name": "python",
      "version": ""
    }
  },
  "nbformat": 4,
  "nbformat_minor": 2
}
