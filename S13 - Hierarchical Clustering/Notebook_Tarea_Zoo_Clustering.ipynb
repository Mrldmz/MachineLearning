{
 "cells": [
  {
   "cell_type": "markdown",
   "metadata": {},
   "source": [
    "# Clustering Jerárquico en el Dataset Zoo\n",
    "Este notebook es una base para la tarea de clustering jerárquico usando el dataset Zoo."
   ]
  },
  {
   "cell_type": "code",
   "execution_count": 4,
   "metadata": {},
   "outputs": [
    {
     "name": "stdout",
     "output_type": "stream",
     "text": [
      "<class 'pandas.core.frame.DataFrame'>\n",
      "RangeIndex: 101 entries, 0 to 100\n",
      "Data columns (total 18 columns):\n",
      " #   Column       Non-Null Count  Dtype \n",
      "---  ------       --------------  ----- \n",
      " 0   animal_name  101 non-null    object\n",
      " 1   hair         101 non-null    int64 \n",
      " 2   feathers     101 non-null    int64 \n",
      " 3   eggs         101 non-null    int64 \n",
      " 4   milk         101 non-null    int64 \n",
      " 5   airborne     101 non-null    int64 \n",
      " 6   aquatic      101 non-null    int64 \n",
      " 7   predator     101 non-null    int64 \n",
      " 8   toothed      101 non-null    int64 \n",
      " 9   backbone     101 non-null    int64 \n",
      " 10  breathes     101 non-null    int64 \n",
      " 11  venomous     101 non-null    int64 \n",
      " 12  fins         101 non-null    int64 \n",
      " 13  legs         101 non-null    int64 \n",
      " 14  tail         101 non-null    int64 \n",
      " 15  domestic     101 non-null    int64 \n",
      " 16  catsize      101 non-null    int64 \n",
      " 17  type         101 non-null    int64 \n",
      "dtypes: int64(17), object(1)\n",
      "memory usage: 14.3+ KB\n",
      "None\n"
     ]
    }
   ],
   "source": [
    "# Paso 1: Cargar el dataset\n",
    "import pandas as pd\n",
    "import numpy as np\n",
    "import matplotlib.pyplot as plt\n",
    "import seaborn as sns\n",
    "\n",
    "# Cargar el dataset zoo ./zoo/zoo.data\n",
    "zoo_data = pd.read_csv('./zoo/zoo.data', header=None)\n",
    "\n",
    "# Asignar nombres a las columnas\n",
    "zoo_data.columns = [\n",
    "    'animal_name', 'hair', 'feathers', 'eggs', 'milk', 'airborne',\n",
    "    'aquatic', 'predator', 'toothed', 'backbone', 'breathes',\n",
    "    'venomous', 'fins', 'legs', 'tail', 'domestic', 'catsize', 'type'\n",
    "]\n",
    "\n",
    "# Resumen del dataset\n",
    "print(zoo_data.info())\n"
   ]
  },
  {
   "cell_type": "code",
   "execution_count": 5,
   "metadata": {},
   "outputs": [
    {
     "name": "stdout",
     "output_type": "stream",
     "text": [
      "   hair  feathers  eggs  milk  airborne  aquatic  predator  toothed  backbone  \\\n",
      "0     1         0     0     1         0        0         1        1         1   \n",
      "1     1         0     0     1         0        0         0        1         1   \n",
      "2     0         0     1     0         0        1         1        1         1   \n",
      "3     1         0     0     1         0        0         1        1         1   \n",
      "4     1         0     0     1         0        0         1        1         1   \n",
      "\n",
      "   breathes  venomous  fins  legs  tail  domestic  catsize  type  is_frog  \n",
      "0         1         0     0   0.5     0         0        1     1        0  \n",
      "1         1         0     0   0.5     1         0        1     1        0  \n",
      "2         0         0     1   0.0     1         0        0     4        0  \n",
      "3         1         0     0   0.5     0         0        1     1        0  \n",
      "4         1         0     0   0.5     1         0        1     1        0  \n"
     ]
    }
   ],
   "source": [
    "# Paso 2: Preprocesamiento (One Hot Encoding y Escalamiento)\n",
    "\n",
    "# Como todos los animales son unicos, excepto por 2 'frog', se puede realizar un one-hot encoding únicamente sobre el valor 'frog'\n",
    "def one_hot_encode_frog(df):\n",
    "    # Crear una nueva columna para 'frog'\n",
    "    df['is_frog'] = np.where(df['animal_name'] == 'frog', 1, 0)\n",
    "    \n",
    "    # Eliminar la columna original 'animal_name'\n",
    "    df = df.drop(columns=['animal_name'])\n",
    "    \n",
    "    return df\n",
    "\n",
    "# Copiar el dataset original para no perder la información\n",
    "zoo_data_encoded = zoo_data.copy()\n",
    "\n",
    "# Aplicar el one-hot encoding\n",
    "zoo_data_encoded = one_hot_encode_frog(zoo_data_encoded)\n",
    "\n",
    "\n",
    "# Escalar normalizando los datos numéricos sin librerías adicionales\n",
    "def normalize_data(df):\n",
    "    # Normalizar solo columnas numéricas que no estén ya entre 0 y 1\n",
    "    for column in df.columns:\n",
    "        if column == 'type':\n",
    "            continue\n",
    "        if df[column].dtype in [np.int64, np.float64]:\n",
    "            col_min = df[column].min()\n",
    "            col_max = df[column].max()\n",
    "            # Solo normalizar si los valores no están ya entre 0 y 1\n",
    "            if not (col_min >= 0 and col_max <= 1):\n",
    "                df[column] = (df[column] - col_min) / (col_max - col_min)\n",
    "    return df\n",
    "\n",
    "# Normalizar los datos\n",
    "zoo_data_encoded = normalize_data(zoo_data_encoded)\n",
    "\n",
    "# Visualizar el dataset preprocesado\n",
    "print(zoo_data_encoded.head())\n"
   ]
  },
  {
   "cell_type": "code",
   "execution_count": null,
   "metadata": {},
   "outputs": [],
   "source": [
    "# Paso 3: Clustering Jerárquico\n"
   ]
  },
  {
   "cell_type": "code",
   "execution_count": null,
   "metadata": {},
   "outputs": [],
   "source": [
    "# Paso 4: Heatmap\n"
   ]
  },
  {
   "cell_type": "markdown",
   "id": "bb0d747a",
   "metadata": {},
   "source": [
    "# Conclusiones\n",
    "Escribe aquí tus conclusiones sobre las agrupaciones obtenidas en el clustering jerárquico."
   ]
  },
  {
   "cell_type": "markdown",
   "id": "b125befc",
   "metadata": {},
   "source": [
    "## Pregunta 1\n",
    "1. ¿Cuántos clusters se pueden identificar claramente en el dendrograma?\n",
    "\n",
    "Escribe tu respuesta aquí."
   ]
  },
  {
   "cell_type": "markdown",
   "id": "c61a1f0f",
   "metadata": {},
   "source": [
    "## Pregunta 2\n",
    "2. ¿Qué características parecen determinar la formación de los clusters?\n",
    "\n",
    "Escribe tu respuesta aquí."
   ]
  },
  {
   "cell_type": "markdown",
   "id": "5425a5f1",
   "metadata": {},
   "source": [
    "## Pregunta 3\n",
    "3. ¿Los resultados del clustering tienen sentido biológico o zoológico?\n",
    "\n",
    "Escribe tu respuesta aquí."
   ]
  },
  {
   "cell_type": "markdown",
   "id": "5e00ec6a",
   "metadata": {},
   "source": [
    "## Pregunta 4\n",
    "4. ¿Cómo afecta la normalización de los datos al clustering?\n",
    "\n",
    "Escribe tu respuesta aquí."
   ]
  },
  {
   "cell_type": "markdown",
   "id": "0138317d",
   "metadata": {},
   "source": [
    "## Pregunta 5\n",
    "5. ¿Qué método de linkage utilizaste y por qué?\n",
    "\n",
    "Escribe tu respuesta aquí."
   ]
  },
  {
   "cell_type": "markdown",
   "id": "ee990c25",
   "metadata": {},
   "source": [
    "## Pregunta 6\n",
    "6. ¿Qué otras técnicas de clustering podrías aplicar a este dataset y por qué?\n",
    "\n",
    "Escribe tu respuesta aquí."
   ]
  }
 ],
 "metadata": {
  "kernelspec": {
   "display_name": ".venv",
   "language": "python",
   "name": "python3"
  },
  "language_info": {
   "codemirror_mode": {
    "name": "ipython",
    "version": 3
   },
   "file_extension": ".py",
   "mimetype": "text/x-python",
   "name": "python",
   "nbconvert_exporter": "python",
   "pygments_lexer": "ipython3",
   "version": "3.13.1"
  }
 },
 "nbformat": 4,
 "nbformat_minor": 5
}
